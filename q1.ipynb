{
 "cells": [
  {
   "cell_type": "code",
   "execution_count": 1,
   "metadata": {},
   "outputs": [],
   "source": [
    "import pandas as pd"
   ]
  },
  {
   "cell_type": "code",
   "execution_count": null,
   "metadata": {},
   "outputs": [],
   "source": []
  },
  {
   "cell_type": "code",
   "execution_count": 2,
   "metadata": {},
   "outputs": [
    {
     "ename": "NameError",
     "evalue": "name 'df' is not defined",
     "output_type": "error",
     "traceback": [
      "\u001b[1;31m---------------------------------------------------------------------------\u001b[0m",
      "\u001b[1;31mNameError\u001b[0m                                 Traceback (most recent call last)",
      "Input \u001b[1;32mIn [2]\u001b[0m, in \u001b[0;36m<module>\u001b[1;34m\u001b[0m\n\u001b[1;32m----> 1\u001b[0m \u001b[43mdf\u001b[49m\u001b[38;5;241m.\u001b[39mhead()\n",
      "\u001b[1;31mNameError\u001b[0m: name 'df' is not defined"
     ]
    }
   ],
   "source": [
    "df.head()\n"
   ]
  },
  {
   "cell_type": "code",
   "execution_count": 3,
   "metadata": {},
   "outputs": [
    {
     "ename": "NameError",
     "evalue": "name 'df' is not defined",
     "output_type": "error",
     "traceback": [
      "\u001b[1;31m---------------------------------------------------------------------------\u001b[0m",
      "\u001b[1;31mNameError\u001b[0m                                 Traceback (most recent call last)",
      "Input \u001b[1;32mIn [3]\u001b[0m, in \u001b[0;36m<module>\u001b[1;34m\u001b[0m\n\u001b[1;32m----> 1\u001b[0m \u001b[43mdf\u001b[49m\u001b[38;5;241m.\u001b[39mshape\n",
      "\u001b[1;31mNameError\u001b[0m: name 'df' is not defined"
     ]
    }
   ],
   "source": [
    "df.shape"
   ]
  },
  {
   "cell_type": "markdown",
   "metadata": {},
   "source": [
    "#  The pipeline should look like this:\n",
    "    1. Lowercase\n",
    "    2. Remove punctuation\n",
    "    3. Tokenization\n",
    "    4. Remove stopwords\n",
    "    5. Stemming\n",
    "    6. Lemmatization\n",
    "    7. POS tagging\n",
    "\n",
    "    # The target text column selected is \"reviewText\"\n"
   ]
  },
  {
   "cell_type": "code",
   "execution_count": 4,
   "metadata": {},
   "outputs": [],
   "source": [
    "df = pd.read_json('reviews_Office_Products_5.json', lines=True)\n",
    "class TextPipeline:\n",
    "\n",
    "    def __init__(self, df, column):\n",
    "        self.df = df\n",
    "        self.column = column\n",
    "\n",
    "    def _to_lower(self):\n",
    "        df[self.column] = df[self.column].apply(lambda x: str(x).lower())\n",
    "        return df\n",
    "\n",
    "    def _remove_punctuations(self):\n",
    "        \n",
    "        def udf_remove_punctuation(txt):\n",
    "            for punctuaution in string.punctuation:\n",
    "                txt = txt.replace(punctuaution, '')\n",
    "            return txt\n",
    "        \n",
    "        df[self.column] = df[self.column].apply(lambda x : udf_remove_punctuation(str(x)))\n",
    "\n",
    "        return df\n",
    "    \n",
    "    def _tokenization(self):\n",
    "        df[\"tokenized_text\"] = df[self.column].apply(lambda x : word_tokenize(x))\n",
    "        return df\n",
    "        \n",
    "    \n",
    "\n",
    "\n",
    "\n",
    "    def run_pipeline(self):\n",
    "        pass\n"
   ]
  },
  {
   "cell_type": "code",
   "execution_count": 6,
   "metadata": {},
   "outputs": [
    {
     "name": "stderr",
     "output_type": "stream",
     "text": [
      "[nltk_data] Downloading package punkt to C:\\Users\\Shantam\n",
      "[nltk_data]     Saxena\\AppData\\Roaming\\nltk_data...\n",
      "[nltk_data]   Unzipping tokenizers\\punkt.zip.\n"
     ]
    },
    {
     "data": {
      "text/html": [
       "<div>\n",
       "<style scoped>\n",
       "    .dataframe tbody tr th:only-of-type {\n",
       "        vertical-align: middle;\n",
       "    }\n",
       "\n",
       "    .dataframe tbody tr th {\n",
       "        vertical-align: top;\n",
       "    }\n",
       "\n",
       "    .dataframe thead th {\n",
       "        text-align: right;\n",
       "    }\n",
       "</style>\n",
       "<table border=\"1\" class=\"dataframe\">\n",
       "  <thead>\n",
       "    <tr style=\"text-align: right;\">\n",
       "      <th></th>\n",
       "      <th>reviewerID</th>\n",
       "      <th>asin</th>\n",
       "      <th>reviewerName</th>\n",
       "      <th>helpful</th>\n",
       "      <th>reviewText</th>\n",
       "      <th>overall</th>\n",
       "      <th>summary</th>\n",
       "      <th>unixReviewTime</th>\n",
       "      <th>reviewTime</th>\n",
       "      <th>tokenized_text</th>\n",
       "    </tr>\n",
       "  </thead>\n",
       "  <tbody>\n",
       "    <tr>\n",
       "      <th>0</th>\n",
       "      <td>A32T2H8150OJLU</td>\n",
       "      <td>B00000JBLH</td>\n",
       "      <td>ARH</td>\n",
       "      <td>[3, 4]</td>\n",
       "      <td>i bought my first hp12c in about 1984 or so an...</td>\n",
       "      <td>5</td>\n",
       "      <td>A solid performer, and long time friend</td>\n",
       "      <td>1094169600</td>\n",
       "      <td>09 3, 2004</td>\n",
       "      <td>[i, bought, my, first, hp12c, in, about, 1984,...</td>\n",
       "    </tr>\n",
       "    <tr>\n",
       "      <th>1</th>\n",
       "      <td>A3MAFS04ZABRGO</td>\n",
       "      <td>B00000JBLH</td>\n",
       "      <td>Let it Be \"Alan\"</td>\n",
       "      <td>[7, 9]</td>\n",
       "      <td>why this belated review i feel very obliged to...</td>\n",
       "      <td>5</td>\n",
       "      <td>Price of GOLD is up, so don't bury the golden ...</td>\n",
       "      <td>1197676800</td>\n",
       "      <td>12 15, 2007</td>\n",
       "      <td>[why, this, belated, review, i, feel, very, ob...</td>\n",
       "    </tr>\n",
       "    <tr>\n",
       "      <th>2</th>\n",
       "      <td>A1F1A0QQP2XVH5</td>\n",
       "      <td>B00000JBLH</td>\n",
       "      <td>Mark B</td>\n",
       "      <td>[3, 3]</td>\n",
       "      <td>i have an hp 48gx that has been kicking for mo...</td>\n",
       "      <td>2</td>\n",
       "      <td>Good functionality, but not durable like old HPs</td>\n",
       "      <td>1293840000</td>\n",
       "      <td>01 1, 2011</td>\n",
       "      <td>[i, have, an, hp, 48gx, that, has, been, kicki...</td>\n",
       "    </tr>\n",
       "    <tr>\n",
       "      <th>3</th>\n",
       "      <td>A49R5DBXXQDE5</td>\n",
       "      <td>B00000JBLH</td>\n",
       "      <td>R. D Johnson</td>\n",
       "      <td>[7, 8]</td>\n",
       "      <td>ive started doing more finance stuff recently ...</td>\n",
       "      <td>5</td>\n",
       "      <td>One of the last of an almost extinct species</td>\n",
       "      <td>1145404800</td>\n",
       "      <td>04 19, 2006</td>\n",
       "      <td>[ive, started, doing, more, finance, stuff, re...</td>\n",
       "    </tr>\n",
       "    <tr>\n",
       "      <th>4</th>\n",
       "      <td>A2XRMQA6PJ5ZJ8</td>\n",
       "      <td>B00000JBLH</td>\n",
       "      <td>Roger J. Buffington</td>\n",
       "      <td>[0, 0]</td>\n",
       "      <td>for simple calculations and discounted cash fl...</td>\n",
       "      <td>5</td>\n",
       "      <td>Still the best</td>\n",
       "      <td>1375574400</td>\n",
       "      <td>08 4, 2013</td>\n",
       "      <td>[for, simple, calculations, and, discounted, c...</td>\n",
       "    </tr>\n",
       "  </tbody>\n",
       "</table>\n",
       "</div>"
      ],
      "text/plain": [
       "       reviewerID        asin         reviewerName helpful  \\\n",
       "0  A32T2H8150OJLU  B00000JBLH                  ARH  [3, 4]   \n",
       "1  A3MAFS04ZABRGO  B00000JBLH     Let it Be \"Alan\"  [7, 9]   \n",
       "2  A1F1A0QQP2XVH5  B00000JBLH               Mark B  [3, 3]   \n",
       "3   A49R5DBXXQDE5  B00000JBLH         R. D Johnson  [7, 8]   \n",
       "4  A2XRMQA6PJ5ZJ8  B00000JBLH  Roger J. Buffington  [0, 0]   \n",
       "\n",
       "                                          reviewText  overall  \\\n",
       "0  i bought my first hp12c in about 1984 or so an...        5   \n",
       "1  why this belated review i feel very obliged to...        5   \n",
       "2  i have an hp 48gx that has been kicking for mo...        2   \n",
       "3  ive started doing more finance stuff recently ...        5   \n",
       "4  for simple calculations and discounted cash fl...        5   \n",
       "\n",
       "                                             summary  unixReviewTime  \\\n",
       "0            A solid performer, and long time friend      1094169600   \n",
       "1  Price of GOLD is up, so don't bury the golden ...      1197676800   \n",
       "2   Good functionality, but not durable like old HPs      1293840000   \n",
       "3       One of the last of an almost extinct species      1145404800   \n",
       "4                                     Still the best      1375574400   \n",
       "\n",
       "    reviewTime                                     tokenized_text  \n",
       "0   09 3, 2004  [i, bought, my, first, hp12c, in, about, 1984,...  \n",
       "1  12 15, 2007  [why, this, belated, review, i, feel, very, ob...  \n",
       "2   01 1, 2011  [i, have, an, hp, 48gx, that, has, been, kicki...  \n",
       "3  04 19, 2006  [ive, started, doing, more, finance, stuff, re...  \n",
       "4   08 4, 2013  [for, simple, calculations, and, discounted, c...  "
      ]
     },
     "execution_count": 6,
     "metadata": {},
     "output_type": "execute_result"
    }
   ],
   "source": [
    "import string\n",
    "from nltk.tokenize import sent_tokenize, word_tokenize\n",
    "import nltk\n",
    "nltk.download('punkt')\n",
    "pip = TextPipeline(df,\"reviewText\")\n",
    "x = pip._to_lower()\n",
    "x = pip._remove_punctuations()\n",
    "x = pip._tokenization()\n",
    "x.head()"
   ]
  },
  {
   "cell_type": "code",
   "execution_count": null,
   "metadata": {},
   "outputs": [],
   "source": []
  }
 ],
 "metadata": {
  "interpreter": {
   "hash": "38cf4922b5951f42ef8a5875273d0bf219d2cd55f3aec31f918c36381f70a6fb"
  },
  "kernelspec": {
   "display_name": "Python 3 (ipykernel)",
   "language": "python",
   "name": "python3"
  },
  "language_info": {
   "codemirror_mode": {
    "name": "ipython",
    "version": 3
   },
   "file_extension": ".py",
   "mimetype": "text/x-python",
   "name": "python",
   "nbconvert_exporter": "python",
   "pygments_lexer": "ipython3",
   "version": "3.8.10"
  }
 },
 "nbformat": 4,
 "nbformat_minor": 2
}
